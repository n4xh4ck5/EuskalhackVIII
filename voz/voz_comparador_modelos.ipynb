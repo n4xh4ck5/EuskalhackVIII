import os
import pandas as pd
from google.colab import files
from pydub import AudioSegment
from speechbrain.pretrained import SpeakerRecognition
import ipywidgets as widgets
from IPython.display import display, clear_output

# Cargar modelos
print("📦 Cargando modelos ECAPA-TDNN y X-vector...")
model_ecapa = SpeakerRecognition.from_hparams(source="speechbrain/spkrec-ecapa-voxceleb", savedir="pretrained_models/ecapa")
model_xvector = SpeakerRecognition.from_hparams(source="speechbrain/spkrec-xvect-voxceleb", savedir="pretrained_models/xvector")

# Subida de archivos
print("🔼 Sube varios archivos de audio (voz base + sospechosas):")
uploaded = files.upload()

# Conversión a WAV
def convert_to_wav(input_file):
    sound = AudioSegment.from_file(input_file)
    output_file = os.path.splitext(input_file)[0] + "_converted.wav"
    sound.export(output_file, format="wav")
    return output_file

# Preparar archivos
file_list = list(uploaded.keys())
prepared_files = []

for fname in file_list:
    ext = os.path.splitext(fname)[1].lower()
    prepared = convert_to_wav(fname) if ext != ".wav" else fname
    prepared_files.append(prepared)
    os.remove(fname)

# Widget selector
selector = widgets.Dropdown(
    options=prepared_files,
    description='🎙️ Voz base:',
    layout=widgets.Layout(width='60%')
)

button = widgets.Button(description="🔍 Comparar con modelos")

# Función para etiquetar nivel de confianza
def interpretar_confianza(score):
    if score <= 0.50:
        return "🔴 Muy baja"
    elif score <= 0.60:
        return "🟠 Baja"
    elif score <= 0.70:
        return "🟡 Media"
    elif score <= 0.80:
        return "🔵 Alta"
    else:
        return "🟣 Muy alta"

# Comparar con ambos modelos
def on_button_clicked(b):
    clear_output(wait=True)
    display(selector, button)

    base = selector.value
    print(f"\n🔍 Comparando voz base: {base}\n")

    resultados = []

    for archivo in prepared_files:
        if archivo == base:
            continue

        # ECAPA
        score_e, pred_e = model_ecapa.verify_files(base, archivo)
        score_e = score_e.item()
        conf_e = interpretar_confianza(score_e)

        # X-vector
        score_x, pred_x = model_xvector.verify_files(base, archivo)
        score_x = score_x.item()
        conf_x = interpretar_confianza(score_x)

        resultados.append({
            "Voz base": base,
            "Voz comparada": archivo,
            "Score ECAPA": round(score_e, 4),
            "¿Misma (ECAPA)?": "Sí" if pred_e else "No",
            "Confianza ECAPA": conf_e,
            "Score X-vector": round(score_x, 4),
            "¿Misma (X-vector)?": "Sí" if pred_x else "No",
            "Confianza X-vector": conf_x,
        })

    df = pd.DataFrame(resultados)
    display(df)

    # Guardar CSV
    path_csv = "comparacion_modelos.csv"
    df.to_csv(path_csv, index=False)
    print(f"\n💾 Resultados guardados en: {path_csv}")
    files.download(path_csv)

    # Limpiar archivos convertidos
    for f in prepared_files:
        if f.endswith("_converted.wav"):
            os.remove(f)

# Enlazar botón
button.on_click(on_button_clicked)

# Mostrar interfaz
display(selector, button)
